{
 "cells": [
  {
   "cell_type": "code",
   "execution_count": 1,
   "metadata": {},
   "outputs": [],
   "source": [
    "import requests\n",
    "from bs4 import BeautifulSoup\n",
    "from tqdm import tqdm\n",
    "import json\n",
    "import time\n",
    "import random\n",
    "import os\n",
    "import logging\n",
    "from datetime import datetime\n",
    "import os\n",
    "import sys\n",
    "import requests\n",
    "from requests.exceptions import Timeout\n",
    "from requests.exceptions import RequestException\n",
    "import re"
   ]
  },
  {
   "cell_type": "code",
   "execution_count": 2,
   "metadata": {},
   "outputs": [],
   "source": [
    "target_categories = [\n",
    "    \"웹 개발\", \"프론트엔드\", \"백엔드\", \"풀스택\", \"모바일 앱 개발\",\n",
    "    \"프로그래밍 언어\", \"알고리즘 · 자료구조\", \"데이터베이스\",\n",
    "    \"데브옵스 · 인프라\", \"자격증 (개발 · 프로그래밍)\", \"개발 도구\", \"웹 퍼블리싱\",\n",
    "    \"VR/AR\", \"데스크톱 앱 개발\", \"게임 개발\", \"데이터 사이언스\", \"기타 (개발 · 프로그래밍)\",\n",
    "    \"컴퓨터 구조\", \"임베디드 · IoT\", \"반도체\", \"로봇공학\", \"모빌리티\", \"자격증 (하드웨어)\", \"기타 (하드웨어)\",\n",
    "    \"게임 프로그래밍\", \"게임 기획\", \"게임 아트 · 그래픽\", \"기타 (게임 개발)\",\n",
    "    \"데이터 분석\", \"인공지능\", \"데이터 시각화\", \"데이터 수집 · 처리\", \"자격증 (데이터 사이언스)\",\n",
    "    \"기타 (데이터 사이언스)\", \"보안\", \"네트워크\", \"시스템\", \"클라우드\", \"블록체인\", \"자격증 (보안 · 네트워크)\", \"기타 (보안 · 네트워크)\"\n",
    "]"
   ]
  },
  {
   "cell_type": "code",
   "execution_count": 62,
   "metadata": {},
   "outputs": [],
   "source": [
    "url = \"https://www.inflearn.com/courses?order=recent&page=1&types=ONLINE\""
   ]
  },
  {
   "cell_type": "code",
   "execution_count": 63,
   "metadata": {},
   "outputs": [],
   "source": [
    "session = requests.session()\n",
    "response = session.get(url)\n",
    "soup = BeautifulSoup(response.text, 'html.parser')"
   ]
  },
  {
   "cell_type": "code",
   "execution_count": 64,
   "metadata": {},
   "outputs": [],
   "source": [
    "container = soup.find(\"div\",class_=\"courses_container\")\n",
    "items = container.find_all(class_=['card', 'course', 'course_card_item'])\n",
    "item = items[0]\n"
   ]
  },
  {
   "cell_type": "code",
   "execution_count": 66,
   "metadata": {},
   "outputs": [
    {
     "data": {
      "text/plain": [
       "24"
      ]
     },
     "execution_count": 66,
     "metadata": {},
     "output_type": "execute_result"
    }
   ],
   "source": [
    "len(items)"
   ]
  },
  {
   "cell_type": "code",
   "execution_count": 51,
   "metadata": {},
   "outputs": [
    {
     "name": "stdout",
     "output_type": "stream",
     "text": [
      "{'lecture_id': '332809', 'url': 'https://inflearn.com/course/arm아키텍처-메모리모델-배리어', 'lecture_name': 'Arm 아키텍처: 메모리 모델과 배리어 [저자직강 3부-3]', 'summary': <p class=\"course_description\">시스템 소프트웨어의 기본 중의 기본,  최신 Arm 아키텍처(Armv8-A, Armv7-A)의 핵심인 '메모리 모델과 배리어'를 \"시스템 소프트웨어 개발을 위한 Arm 아키텍처의 구조와 원리\"의 저자가 제대로 잡아드립니다!</p>, 'price': {'original_price': '₩23,100', 'sale_price': None}, 'instructor': '김동현 (Austin Kim)', 'categories': ['임베디드 · IoT', ' 반도체'], 'tags': ['ARM Architecture', ' memory-mapped-io', ' barrier'], 'level': '초급', 'img': 'https://cdn.inflearn.com/public/courses/332809/cover/714d216e-a073-4a66-b827-3a3711ed0db9/332809.png'}\n"
     ]
    }
   ],
   "source": [
    "lecture_id = item.get(\"data-productid\")\n",
    "a = item.a\n",
    "img = item.img.get('data-src')\n",
    "url = \"https://inflearn.com\"+a.get('href')\n",
    "course_name = a.find('div',class_='course_title').text\n",
    "instructor = a.find('div',class_='instructor').text\n",
    "\n",
    "card_back = item.find(\"div\",\"course_card_back\")\n",
    "summary = card_back.find(\"p\",class_=\"course_description\")\n",
    "level = card_back.find(\"div\",class_=\"course_level\").text.strip()\n",
    "categories = card_back.find(\"div\",class_=\"course_categories\").text.strip().split(\",\")\n",
    "tags = card_back.find(\"div\",class_=\"course_skills\").text.strip().split(\",\")\n",
    "price = item.find(\"div\",\"price\")\n",
    "price = {\n",
    "    \"original_price\" : price.find(\"span\", class_ = \"pay_price\").text,\n",
    "    \"sale_price\" : price.find(\"del\", class_ = \"pay_price\").text if price.find(\"del\", class_ = \"pay_price\") else None\n",
    "}\n",
    "\n",
    "data_json = {\n",
    "    \"lecture_id\" : lecture_id,\n",
    "    \"url\" : url,\n",
    "    \"lecture_name\" : course_name,\n",
    "    \"summary\" : summary,\n",
    "    \"price\" : price,\n",
    "    \"instructor\" : instructor,\n",
    "    \"categories\" : categories,\n",
    "    \"tags\" : tags,\n",
    "    \"level\" : level,\n",
    "    \"img\" : img,\n",
    "}\n",
    "\n",
    "print(data_json)"
   ]
  },
  {
   "cell_type": "code",
   "execution_count": 32,
   "metadata": {},
   "outputs": [
    {
     "name": "stdout",
     "output_type": "stream",
     "text": [
      "dict_keys(['332809', '332927', '332866', '332863', '332843', '332739', '332034', '331907', '332891', '332857', '332815', '331960', '332846', '332773', '332626'])\n"
     ]
    }
   ],
   "source": [
    "target_categories = set([\n",
    "        \"웹 개발\", \"프론트엔드\", \"백엔드\", \"풀스택\", \"모바일 앱 개발\",\n",
    "        \"프로그래밍 언어\", \"알고리즘 · 자료구조\", \"데이터베이스\",\n",
    "        \"데브옵스 · 인프라\", \"자격증 (개발 · 프로그래밍)\", \"개발 도구\", \"웹 퍼블리싱\",\n",
    "        \"VR/AR\", \"데스크톱 앱 개발\", \"게임 개발\", \"데이터 사이언스\", \"기타 (개발 · 프로그래밍)\",\n",
    "        \"컴퓨터 구조\", \"임베디드 · IoT\", \"반도체\", \"로봇공학\", \"모빌리티\", \"자격증 (하드웨어)\", \"기타 (하드웨어)\",\n",
    "        \"게임 프로그래밍\", \"게임 기획\", \"게임 아트 · 그래픽\", \"기타 (게임 개발)\",\n",
    "        \"데이터 분석\", \"인공지능\", \"데이터 시각화\", \"데이터 수집 · 처리\", \"자격증 (데이터 사이언스)\",\n",
    "        \"기타 (데이터 사이언스)\", \"보안\", \"네트워크\", \"시스템\", \"클라우드\", \"블록체인\", \"자격증 (보안 · 네트워크)\", \"기타 (보안 · 네트워크)\"\n",
    "    ]\n",
    ")\n",
    "\n",
    "headers = {\n",
    "    \"User-Agent\" : \"Mozilla/5.0 (Windows NT 10.0; Win64; x64) AppleWebKit/537.36 (KHTML, like Gecko) Chrome/120.0.0.0 Safari/537.36 Edg/120.0.0.0\",\n",
    "    \"Accept-Language\" : \"ko,en;q=0.9,en-US;q=0.8\"\n",
    "}\n",
    "\n",
    "session = requests.session()\n",
    "p = 1\n",
    "crashed = set()\n",
    "list_dic = {}\n",
    "while (p<=135):\n",
    "    url = f\"https://www.inflearn.com/courses?order=recent&page={p}&types=ONLINE\"\n",
    "    if (p%10 == 0):\n",
    "        session = requests.session()\n",
    "    response = session.get(url, headers=headers, timeout=10)\n",
    "    if response.status_code != 200:\n",
    "        raise Exception\n",
    "    soup = BeautifulSoup(response.text, 'html.parser')\n",
    "    container = soup.find(\"div\",class_=\"courses_container\")\n",
    "    items = container.find_all(class_=['card', 'course', 'course_card_item'])\n",
    "    temp = {}\n",
    "    for item in items:\n",
    "        card_back = item.find(\"div\",\"course_card_back\")\n",
    "        categories = card_back.find(\"div\",class_=\"course_categories\").text.strip().split(\",\")\n",
    "\n",
    "        is_target = False\n",
    "        for c in categories:\n",
    "            if c in target_categories:\n",
    "                is_target = True\n",
    "                break\n",
    "        if not is_target:\n",
    "            continue\n",
    "            \n",
    "        lecture_id = item.get(\"data-productid\")\n",
    "        if lecture_id in list_dic:\n",
    "            # 중복\n",
    "            continue\n",
    "\n",
    "        a = item.a\n",
    "        img = item.img.get('data-src')\n",
    "        url = \"https://inflearn.com\"+a.get('href')\n",
    "        course_name = a.find('div',class_='course_title').text\n",
    "        instructor = a.find('div',class_='instructor').text\n",
    "\n",
    "        summary = card_back.find(\"p\",class_=\"course_description\").text\n",
    "        level = card_back.find(\"div\",class_=\"course_level\").text.strip()\n",
    "        tags = card_back.find(\"div\",class_=\"course_skills\").text.strip().split(\",\")\n",
    "        price = item.find(\"div\",\"price\")\n",
    "\n",
    "        try:\n",
    "            if (price.find(\"del\")):\n",
    "                # 세일중\n",
    "                # print(int(re.sub(r'[₩,]', '', price.find(\"del\").text)))\n",
    "                # print(int(re.sub(r'[₩,]', '', price.span.text)))\n",
    " \n",
    "                price = {\n",
    "                    \"is_free\" : False,\n",
    "                    \"is_sale\" : True,\n",
    "                    \"data\" : {\n",
    "                        \"original_price\" : int(re.sub(r'[₩,]', '', price.find(\"del\").text)),\n",
    "                        \"sale_price\" : int(re.sub(r'[₩,]', '', price.span.text))\n",
    "                    }\n",
    "                }\n",
    "            else:\n",
    "                if (price.text.strip()==\"무료\"):\n",
    "                    price = {\n",
    "                        \"is_free\" : True,\n",
    "                        \"is_sale\" : False,\n",
    "                        \"data\" : {\n",
    "                            \"original_price\" : 0,\n",
    "                            \"sale_price\" : 0\n",
    "                        }\n",
    "                    }\n",
    "                else:\n",
    "                    price = {\n",
    "                        \"is_free\" : False,\n",
    "                        \"is_sale\" : False,\n",
    "                        \"data\" : {\n",
    "                            \"original_price\" : int(re.sub(r'[₩,]', '', price.text)),\n",
    "                            \"sale_price\" : int(re.sub(r'[₩,]', '', price.text))\n",
    "                        }\n",
    "                    }\n",
    "\n",
    "            data_json = {\n",
    "                \"lecture_id\" : lecture_id,\n",
    "                \"url\" : url,\n",
    "                \"lecture_name\" : course_name,\n",
    "                \"summary\" : summary,\n",
    "                \"price\" : price,\n",
    "                \"instructor\" : instructor,\n",
    "                \"categories\" : categories,\n",
    "                \"tags\" : tags,\n",
    "                \"level\" : level,\n",
    "                \"img\" : img,\n",
    "            }\n",
    "            temp[lecture_id] = data_json        \n",
    "        except Exception as e:\n",
    "            print(lecture_id)\n",
    "\n",
    "    # 전송\n",
    "    list_dic.update(temp)\n",
    "    print(list_dic.keys())\n",
    "    p += 1\n",
    "    break\n",
    "\n",
    "if not os.path.exists(\"./list/\"):\n",
    "    os.makedirs(\"./list/\")\n",
    "with open(\"./list/list_data.json\", \"w\", encoding=\"utf-8\") as f:\n",
    "    json.dump(list_dic, f, ensure_ascii=False)\n",
    "# done message\n",
    "    \n",
    "\n",
    "\n",
    "    "
   ]
  },
  {
   "cell_type": "code",
   "execution_count": 33,
   "metadata": {},
   "outputs": [
    {
     "data": {
      "text/plain": [
       "{'lecture_id': '332809',\n",
       " 'url': 'https://inflearn.com/course/arm아키텍처-메모리모델-배리어',\n",
       " 'lecture_name': 'Arm 아키텍처: 메모리 모델과 배리어 [저자직강 3부-3]',\n",
       " 'summary': '시스템 소프트웨어의 기본 중의 기본,  최신 Arm 아키텍처(Armv8-A, Armv7-A)의 핵심인 \\'메모리 모델과 배리어\\'를 \"시스템 소프트웨어 개발을 위한 Arm 아키텍처의 구조와 원리\"의 저자가 제대로 잡아드립니다!',\n",
       " 'price': {'is_free': False,\n",
       "  'is_sale': True,\n",
       "  'data': {'original_price': 33000, 'sale_price': 23100}},\n",
       " 'instructor': '김동현 (Austin Kim)',\n",
       " 'categories': ['임베디드 · IoT', ' 반도체'],\n",
       " 'tags': ['ARM Architecture', ' memory-mapped-io', ' barrier'],\n",
       " 'level': '초급',\n",
       " 'img': 'https://cdn.inflearn.com/public/courses/332809/cover/714d216e-a073-4a66-b827-3a3711ed0db9/332809.png'}"
      ]
     },
     "execution_count": 33,
     "metadata": {},
     "output_type": "execute_result"
    }
   ],
   "source": [
    "list_dic[\"332809\"]"
   ]
  },
  {
   "cell_type": "code",
   "execution_count": 27,
   "metadata": {},
   "outputs": [
    {
     "name": "stdout",
     "output_type": "stream",
     "text": [
      "200\n"
     ]
    }
   ],
   "source": [
    "url = f\"https://www.inflearn.com/courses?order=recent&page={500}&types=ONLINE\"\n",
    "session = requests.session()\n",
    "response = session.get(url, headers=headers, timeout=10)\n",
    "print(response.status_code)\n",
    "print(response.status_code)"
   ]
  },
  {
   "cell_type": "code",
   "execution_count": 23,
   "metadata": {},
   "outputs": [
    {
     "name": "stdout",
     "output_type": "stream",
     "text": [
      "{'lecture_id': '332809', 'url': 'https://inflearn.com/course/arm아키텍처-메모리모델-배리어', 'lecture_name': 'Arm 아키텍처: 메모리 모델과 배리어 [저자직강 3부-3]', 'summary': <p class=\"course_description\">시스템 소프트웨어의 기본 중의 기본,  최신 Arm 아키텍처(Armv8-A, Armv7-A)의 핵심인 '메모리 모델과 배리어'를 \"시스템 소프트웨어 개발을 위한 Arm 아키텍처의 구조와 원리\"의 저자가 제대로 잡아드립니다!</p>, 'price': {'is_free': False, 'is_sale': True, 'data': {'original_price': 33000, 'sale_price': 23100}}, 'instructor': '김동현 (Austin Kim)', 'categories': ['임베디드 · IoT', ' 반도체'], 'tags': ['ARM Architecture', ' memory-mapped-io', ' barrier'], 'level': '초급', 'img': 'https://cdn.inflearn.com/public/courses/332809/cover/714d216e-a073-4a66-b827-3a3711ed0db9/332809.png'}\n",
      "{'lecture_id': '331768', 'url': 'https://inflearn.com/course/빼먹기-쉬운-구조', 'lecture_name': '빼먹기 쉬운 구조: 소비자에서 생산자로. w.개발 Process', 'summary': <p class=\"course_description\">더 이상 “남의 주관”에서 살아가는 “나, 자신”이 아닌. “나”라는 사람으로 살아남기! 사회적으로 굳어진 프레임과 거품을 제거하고, 자기 경험과 커리어를 개발과 디자인의 프로세스를 통해 퍼스널 브랜딩하는 Know + How를 익히게 됩니다.</p>, 'price': {'is_free': False, 'is_sale': True, 'data': {'original_price': 72600, 'sale_price': 50820}}, 'instructor': '지방사람', 'categories': ['개인 브랜딩', ' 교양'], 'tags': ['자기계발'], 'level': '입문', 'img': 'https://cdn.inflearn.com/public/courses/331768/cover/2147c3e1-42f4-46c9-9c17-ec956b483b1f/331768.png'}\n",
      "{'lecture_id': '329515', 'url': 'https://inflearn.com/course/파이썬-트레이딩룸-파트3', 'lecture_name': '퀀트 투자를 위한 파이썬 트레이딩룸 만들기 - Part 3', 'summary': <p class=\"course_description\">퀀트 투자를 위한 파이썬 트레이딩룸 만들기 Part 3에서는 포트폴리오 이론 및 실전투자에 필요한 개념 및 코드로 구현하는 방법에 대해 배웁니다. Part 1 &amp; 2에서는 금융데이터 분석을 위한 코드 구현 방법들에 대해서 주로 배웠다면, Part 3에서는 퀀트 투자에 있어 중요한 부분을 차지하는 '포트폴리오'에 대해서 배웁니다. 왜 포트폴리오를 만들어야할까? 라는 의문을 가지고 포트폴리오 이론을 배우며 이를 파이썬으로 구현도 하고, 실전 포트폴리오 투자에 필요한 코드 실습도 진행합니다.\n",
      "해당 강의를 통해 여러분들만의 포트폴리오 투자에 있어 도움이 되기를 바라겠습니다</p>, 'price': {'is_free': False, 'is_sale': True, 'data': {'original_price': 99000, 'sale_price': 84150}}, 'instructor': 'Suit & Coffee', 'categories': ['금융 ·  재테크', ' 데이터 분석'], 'tags': ['퀀트', ' Python', ' 투자'], 'level': '중급이상', 'img': 'https://cdn.inflearn.com/public/courses/329515/cover/46e7e947-ba6e-4430-bdb1-c80e4b530f66/329515.png'}\n",
      "{'lecture_id': '332927', 'url': 'https://inflearn.com/course/basic-csharp', 'lecture_name': '아임코딩의 C# 기초 강의', 'summary': <p class=\"course_description\">C# 을 처음 배우는 사람을 위한 아임코딩의 C# 기초 강의</p>, 'price': {'is_free': True, 'is_sale': False, 'data': {'original_price': 0, 'sale_price': 0}}, 'instructor': '아임코딩', 'categories': ['프로그래밍 언어'], 'tags': ['C#', ' 객체지향'], 'level': '입문', 'img': 'https://cdn.inflearn.com/public/courses/332927/cover/84481c02-911c-4b23-976a-390be30aaa9e/332927.png'}\n",
      "{'lecture_id': '332915', 'url': 'https://inflearn.com/course/엑셀-재발견-실무-꿀팁', 'lecture_name': '엑셀의 재발견 : 실무 꿀팁 대백과사전', 'summary': <p class=\"course_description\">하나씩 쉽고 맛있게 꺼내 먹을 수 있는 엑셀 꿀팁을 모은 실무 꿀팁 대백과 사전</p>, 'price': {'is_free': True, 'is_sale': False, 'data': {'original_price': 0, 'sale_price': 0}}, 'instructor': '최반장', 'categories': ['오피스', ' 업무 자동화'], 'tags': ['Excel'], 'level': '입문', 'img': 'https://cdn.inflearn.com/public/courses/332915/cover/21fe65be-abe1-40f4-bbb8-68a647b4f6d6/332915.png'}\n",
      "{'lecture_id': '332866', 'url': 'https://inflearn.com/course/서버개발-백엔드-mysql-mongodb', 'lecture_name': '두가지 DB를 활용한 서버개발을 통해 백엔드 취업하기 [MySQL, Mongo]', 'summary': <p class=\"course_description\">백엔드 취업을 준비하시는 취준생분들을 위한 MySQL, Mongo 두가지 DB를 활용한 백엔드 개발에 대한 내용입니다.</p>, 'price': {'is_free': False, 'is_sale': True, 'data': {'original_price': 33000, 'sale_price': 23100}}, 'instructor': 'Akaps', 'categories': ['백엔드', ' 데이터베이스', ' 웹 개발'], 'tags': ['MySQL', ' MongoDB', ' ERD'], 'level': '초급', 'img': 'https://cdn.inflearn.com/public/courses/332866/cover/002e90d9-1412-4a10-a9c6-39aa22d99671/332866.png'}\n",
      "{'lecture_id': '332863', 'url': 'https://inflearn.com/course/arm3부-아키텍처-가상화', 'lecture_name': 'Arm 아키텍처: 가상화(Virtualization) [저자직강 3부-2]', 'summary': <p class=\"course_description\">시스템 소프트웨어의 기본 중의 기본,  최신 Arm 아키텍처(Armv8-A, Armv7-A)의 핵심인 가상화를 \"시스템 소프트웨어 개발을 위한 Arm 아키텍처의 구조와 원리\"의 저자가 제대로 잡아드립니다!</p>, 'price': {'is_free': False, 'is_sale': True, 'data': {'original_price': 33000, 'sale_price': 23100}}, 'instructor': '김동현 (Austin Kim)', 'categories': ['임베디드 · IoT', ' 모빌리티', ' 반도체'], 'tags': ['ARM Architecture', ' armv8', ' 가상화'], 'level': '초급', 'img': 'https://cdn.inflearn.com/public/courses/332863/cover/f88c5692-bf66-411f-8892-c80492a90574/332863.png'}\n",
      "{'lecture_id': '332845', 'url': 'https://inflearn.com/course/환상의족발-디자인부터-코딩까지', 'lecture_name': '[환상의족발] 디자인부터 코딩까지', 'summary': <p class=\"course_description\">맛있는 족발이에요~ 요즘 족발 장난 아니던데...꿀꺽</p>, 'price': {'is_free': False, 'is_sale': False, 'data': {'original_price': 22000, 'sale_price': 22000}}, 'instructor': '두노피', 'categories': ['UX/UI', ' 디자인 툴', ' 웹 퍼블리싱'], 'tags': ['Photoshop', ' HTML/CSS', ' 클론코딩'], 'level': '초급', 'img': 'https://cdn.inflearn.com/public/courses/332845/cover/5d0ef569-50e5-4300-96ed-3205d526795b/332845.png'}\n",
      "{'lecture_id': '332843', 'url': 'https://inflearn.com/course/구글-애드센스-수익형-워드프레스', 'lecture_name': '구글 애드센스 수익형 워드프레스 블로그 만들기', 'summary': <p class=\"course_description\">구글 애드센스 광고를 설치할 수 있는 워드프레스 블로그 만들기! 전문 언론사 스타일의 Newspaper 테마부터 수익형 블로그 끝판왕 Generatepress 테마까지 모두 알려드립니다.</p>, 'price': {'is_free': False, 'is_sale': True, 'data': {'original_price': 77000, 'sale_price': 61600}}, 'instructor': '아이티커넥트', 'categories': ['웹 개발'], 'tags': ['WordPress', ' 웹 디자인', ' 반응형 웹'], 'level': '입문', 'img': 'https://cdn.inflearn.com/public/courses/332843/cover/fd214472-2b24-4c0d-a607-05d21f725f09/332843.jpg'}\n",
      "{'lecture_id': '332739', 'url': 'https://inflearn.com/course/arm3부-아키텍처-트러스트존', 'lecture_name': 'Arm 아키텍처: 트러스트존(TrustZone) [저자직강 3부-1]', 'summary': <p class=\"course_description\">시스템 소프트웨어의 기본 중의 기본, 최신 Arm 아키텍처(Armv8-A, Armv7-A)의 핵심인 트러스트존(TrustZone)을 \"시스템 소프트웨어 개발을 위한 Arm 아키텍처의 구조와 원리\"의 저자가 제대로 잡아드립니다!</p>, 'price': {'is_free': False, 'is_sale': True, 'data': {'original_price': 33000, 'sale_price': 23100}}, 'instructor': '김동현 (Austin Kim)', 'categories': ['임베디드 · IoT', ' 시스템', ' 반도체'], 'tags': ['ARM Architecture', ' armv8', ' armv7'], 'level': '초급', 'img': 'https://cdn.inflearn.com/public/courses/332739/cover/66fb76ce-ef98-4d2c-9138-ad97cdab6a99/332739.png'}\n",
      "{'lecture_id': '332034', 'url': 'https://inflearn.com/course/30만-김영한-라이브세션', 'lecture_name': '[30만 수강생 기념] 1/31 김영한님 온라인 밋업 Live', 'summary': <p class=\"course_description\">1월 31일 저녁 7시에 시작되는 김영한님의 라이브 세션입니다!</p>, 'price': {'is_free': True, 'is_sale': False, 'data': {'original_price': 0, 'sale_price': 0}}, 'instructor': '인프런', 'categories': ['기타 (개발 · 프로그래밍)'], 'tags': [''], 'level': '입문', 'img': 'https://cdn.inflearn.com/public/courses/332034/cover/1fb7a785-732c-4f10-8f29-d5cbf3d105e1/332034.png'}\n",
      "{'lecture_id': '331907', 'url': 'https://inflearn.com/course/qt-qml-cpp-크로스플랫폼', 'lecture_name': 'Qt QML과 C++로 시작하는 크로스플랫폼 앱 개발 - 입문편', 'summary': <p class=\"course_description\">Qt QML과 C++를 사용하여 크로스플랫폼 애플리케이션 개발에 입문할 수 있습니다. 해당 강의에서는 윈도우 응용 프로그램 타겟으로 개발을 진행합니다.</p>, 'price': {'is_free': False, 'is_sale': True, 'data': {'original_price': 45100, 'sale_price': 31570}}, 'instructor': '코드브릿지', 'categories': ['데스크톱 앱 개발', ' 프로그래밍 언어', ' 모바일 앱 개발'], 'tags': ['Qt', ' QML', ' C++'], 'level': '입문', 'img': 'https://cdn.inflearn.com/public/courses/331907/cover/9a16843d-3fd7-4cc9-a728-946d63a2b16f/331907.png'}\n",
      "{'lecture_id': '332891', 'url': 'https://inflearn.com/course/고급-c-언어', 'lecture_name': '고급 C언어', 'summary': <p class=\"course_description\">C언어 내부 구조를 이해하여 좀 더 빠르고 메모리 최적화된 프로그램을 구현할 수 있습니다.</p>, 'price': {'is_free': False, 'is_sale': True, 'data': {'original_price': 88000, 'sale_price': 61600}}, 'instructor': '김정인', 'categories': ['프로그래밍 언어'], 'tags': ['C', ' 컴퓨터 구조', ' Linux'], 'level': '중급이상', 'img': 'https://cdn.inflearn.com/public/courses/332891/cover/3f48fbc0-f88d-45c1-9908-2406a7a9b9dd/332891.png'}\n",
      "{'lecture_id': '332857', 'url': 'https://inflearn.com/course/딥러닝-이론-파이토치-실무-정복', 'lecture_name': '딥러닝 이론 + PyTorch 실무 완전 정복', 'summary': <p class=\"course_description\">딥러닝 현업에 종사하기 위해 필요한 딥러닝의 “핵심 개념”을 배우고 PyTorch을 활용한 실습을 통해서 실제 딥러닝 프로젝트를 수행하는데 필요한 실무를 가르쳐주는 강의입니다.</p>, 'price': {'is_free': False, 'is_sale': True, 'data': {'original_price': 284900, 'sale_price': 199430}}, 'instructor': '변정현', 'categories': ['인공지능'], 'tags': ['딥러닝', ' PyTorch', ' 컴퓨터 비전'], 'level': '초급', 'img': 'https://cdn.inflearn.com/public/courses/332857/cover/0a28850c-f109-492a-baac-43277dc58ebd/332857.png'}\n",
      "{'lecture_id': '332815', 'url': 'https://inflearn.com/course/go-hard-to-c', 'lecture_name': 'Go Hard to C (feat. Algorithm)', 'summary': <p class=\"course_description\">프로그래머가 되고자 결심한 모든 사람들에게 강력하게 추천하는 강의입니다.</p>, 'price': {'is_free': False, 'is_sale': True, 'data': {'original_price': 99000, 'sale_price': 69300}}, 'instructor': '코드조선', 'categories': ['프로그래밍 언어', ' 알고리즘 · 자료구조', ' 게임 프로그래밍'], 'tags': ['C', ' 알고리즘'], 'level': '입문', 'img': 'https://cdn.inflearn.com/public/courses/332815/cover/cdfa4418-c520-407b-bad2-19555fbf49a7/332815.png'}\n",
      "{'lecture_id': '332660', 'url': 'https://inflearn.com/course/하루-10분-최적화이론1', 'lecture_name': '하루 10분 한달완성 최적화이론 1', 'summary': <p class=\"course_description\">AI/딥러닝 등에 필요한 최적화이론 입니다. 최적화이론1에서는 다변수함수의 정의와 다변수함수의 미분을 다루고 있습니다. 다변수 함수의 미분개념이 필요하시 분들에게 추천합니다.</p>, 'price': {'is_free': False, 'is_sale': False, 'data': {'original_price': 55000, 'sale_price': 55000}}, 'instructor': '임장환', 'categories': ['수학'], 'tags': ['최적화이론', ' 선형대수학', ' 머신러닝'], 'level': '초급', 'img': 'https://cdn.inflearn.com/public/courses/332660/cover/b3c2620e-391b-46b3-9343-34b2b76005e6/최적화이론인프런.png'}\n",
      "{'lecture_id': '331960', 'url': 'https://inflearn.com/course/unreal-3d-mmorpg-5', 'lecture_name': '[C++과 언리얼로 만드는 MMORPG 게임 개발 시리즈] Part5: UE5 & IOCP 서버 연동', 'summary': <p class=\"course_description\">IOCP 게임 서버와 언리얼 엔진을 연동하는\n",
      "프레임워크를 만드는 강의입니다.\n",
      "(Dedicated-Server 강의가 아닙니다!)</p>, 'price': {'is_free': False, 'is_sale': True, 'data': {'original_price': 110000, 'sale_price': 77000}}, 'instructor': 'Rookiss', 'categories': ['게임 프로그래밍', ' 백엔드'], 'tags': ['Unreal Engine', ' Windows Server', ' C++'], 'level': '중급이상', 'img': 'https://cdn.inflearn.com/public/courses/331960/cover/ff85b41a-b9d9-48b0-a1af-e6ce71906c50/331960.png'}\n",
      "{'lecture_id': '332882', 'url': 'https://inflearn.com/course/키샷-중급-part2', 'lecture_name': '키샷 중급•고급 : 극 사실적인 제품 이미지를 위한 키샷 렌더링 & 후보정 Part.2', 'summary': <p class=\"course_description\">실무 능력 향상을 위한 극사실적인 렌더링 프로세스! 키삿&amp;후보정 중급•고급 노하우! 친절하게 알려드릴게요 😀</p>, 'price': {'is_free': False, 'is_sale': True, 'data': {'original_price': 249700, 'sale_price': 187280}}, 'instructor': 'SOO', 'categories': ['CAD · 3D 모델링', ' 디자인 툴', ' 사진 · 영상', ' 그래픽 디자인'], 'tags': ['KeyShot', ' 3d-modelling', ' 3d-rendering'], 'level': '중급이상', 'img': 'https://cdn.inflearn.com/public/courses/332882/cover/bee2eb4c-5e9b-4b05-8c64-e8d0fa9648e3/332882.png'}\n",
      "{'lecture_id': '332875', 'url': 'https://inflearn.com/course/키샷-입문-part1', 'lecture_name': '키샷 입문•초급 : 극 사실적인 제품 이미지를 위한 키샷 렌더링 & 후보정 Part.1', 'summary': <p class=\"course_description\">비사실적이고 장난감 같이 보이는 이미지는 더이상 NO! 극사실적인 제품 렌더링의 고급 노하우 친절하게 알려드릴게요!</p>, 'price': {'is_free': False, 'is_sale': True, 'data': {'original_price': 229900, 'sale_price': 183920}}, 'instructor': 'SOO', 'categories': ['CAD · 3D 모델링', ' 디자인 툴', ' 사진 · 영상', ' 그래픽 디자인'], 'tags': ['KeyShot', ' 3d-modelling', ' 3d-rendering'], 'level': '입문', 'img': 'https://cdn.inflearn.com/public/courses/332875/cover/0148e69b-b3a5-4df2-a772-0a416669f7d7/332875.png'}\n",
      "{'lecture_id': '332846', 'url': 'https://inflearn.com/course/이득우-언리얼-프로그래밍-part-4', 'lecture_name': '이득우의 언리얼 프로그래밍 Part4 - 게임플레이 어빌리티 시스템', 'summary': <p class=\"course_description\">언리얼 엔진5의 게임플레이 어빌리티 시스템을 활용해 RPG게임의 각종 스킬 시스템을 효과적으로 구현하는 방법을 학습합니다.</p>, 'price': {'is_free': False, 'is_sale': True, 'data': {'original_price': 165000, 'sale_price': 132000}}, 'instructor': '이득우', 'categories': ['게임 프로그래밍'], 'tags': ['Unreal Engine', ' GAS', ' unreal-engine5'], 'level': '중급이상', 'img': 'https://cdn.inflearn.com/public/courses/332846/cover/6090b0ea-fd33-479d-a7cd-1938599c3594/332846.jpg'}\n",
      "{'lecture_id': '332865', 'url': 'https://inflearn.com/course/피그마-아토믹-mvp', 'lecture_name': '피그마 아토믹 컴포넌트 디자인 시스템으로 MVP 만들기', 'summary': <p class=\"course_description\">아토믹 컴포넌트 시스템을 활용하여 MVP를 기획부터 디자인까지 완료 해 보는 클래스입니다. 디자인 컴포넌트를 이해하고 활용할 수 있게 됩니다.</p>, 'price': {'is_free': False, 'is_sale': True, 'data': {'original_price': 96800, 'sale_price': 87120}}, 'instructor': 'Hagiro', 'categories': ['UX/UI', ' 디자인 툴'], 'tags': ['Figma', ' 아토믹 디자인', ' 디자인 시스템'], 'level': '초급', 'img': 'https://cdn.inflearn.com/public/courses/332865/cover/68ddb06c-6a6f-4d38-8b15-829e9608c34d/332865.jpg'}\n",
      "{'lecture_id': '332826', 'url': 'https://inflearn.com/course/power-automate-desktop-반복-업무-자동화', 'lecture_name': '[무료 MS RPA를 활용한 업무 자동화] Power Automate Desktop - 반복되는 일 자동화하기', 'summary': <p class=\"course_description\">별거 아니지만 사람이 계속 신경 쓰고 반복해서 해야 하는 일 들을 Power Automate Desktop으로 자동화하고 정말 중요한 일에 집중해보세요! 🎯</p>, 'price': {'is_free': False, 'is_sale': True, 'data': {'original_price': 44000, 'sale_price': 35200}}, 'instructor': '오마스', 'categories': ['업무 자동화', ' 오피스'], 'tags': ['Power Automate', ' RPA', ' microsoft-office'], 'level': '초급', 'img': 'https://cdn.inflearn.com/public/courses/332826/cover/fd9d8667-48a8-4d2e-b27d-1154f66df679/332826.png'}\n",
      "{'lecture_id': '332773', 'url': 'https://inflearn.com/course/웹-프로그래밍-정규표현식', 'lecture_name': '웹 프로그래밍을 위한 정규표현식', 'summary': <p class=\"course_description\">웹 프로그래밍에서 사용자의 입력값을 검증하기 위해 정규표현식이 필요하신가요?</p>, 'price': {'is_free': False, 'is_sale': True, 'data': {'original_price': 11000, 'sale_price': 7700}}, 'instructor': '모두의 코딩:두딩', 'categories': ['기타 (개발 · 프로그래밍)', ' 웹 개발', ' 프로그래밍 언어'], 'tags': ['정규식'], 'level': '초급', 'img': 'https://cdn.inflearn.com/public/courses/332773/cover/3ae32180-4a11-4122-aa30-7fc60546ecb4/332773.png'}\n",
      "{'lecture_id': '332626', 'url': 'https://inflearn.com/course/데이터-전문가-실용적인-도커', 'lecture_name': '데이터 전문가를 위한 실용적인 도커: 머신러닝을 위한 케글 수준의 분석 환경 구축', 'summary': <p class=\"course_description\">클라우드 GPU 기술과 도커를 활용한 케글 수준의 분석 환경 설정</p>, 'price': {'is_free': False, 'is_sale': True, 'data': {'original_price': 77000, 'sale_price': 61600}}, 'instructor': '다니엘', 'categories': ['데브옵스 · 인프라', ' 데이터 사이언스', ' 데이터 분석', ' 클라우드'], 'tags': ['Docker', ' Azure', ' Linux'], 'level': '초급', 'img': 'https://cdn.inflearn.com/public/courses/332626/cover/07e4c5c0-4b5b-4c67-af20-3939aaa7e1b2/332626.png'}\n"
     ]
    }
   ],
   "source": [
    "for k,v in list_dic.items():\n",
    "    print(v)"
   ]
  },
  {
   "cell_type": "code",
   "execution_count": null,
   "metadata": {},
   "outputs": [],
   "source": []
  }
 ],
 "metadata": {
  "kernelspec": {
   "display_name": "Python 3",
   "language": "python",
   "name": "python3"
  },
  "language_info": {
   "codemirror_mode": {
    "name": "ipython",
    "version": 3
   },
   "file_extension": ".py",
   "mimetype": "text/x-python",
   "name": "python",
   "nbconvert_exporter": "python",
   "pygments_lexer": "ipython3",
   "version": "3.12.1"
  }
 },
 "nbformat": 4,
 "nbformat_minor": 2
}
